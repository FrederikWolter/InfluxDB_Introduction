{
 "cells": [
  {
   "cell_type": "markdown",
   "id": "f64492f5",
   "metadata": {
    "slideshow": {
     "slide_type": "skip"
    }
   },
   "source": [
    "### Styling "
   ]
  },
  {
   "cell_type": "code",
   "execution_count": null,
   "id": "46ac70d1",
   "metadata": {
    "scrolled": true,
    "slideshow": {
     "slide_type": "skip"
    }
   },
   "outputs": [],
   "source": [
    "%%html\n",
    "<style>\n",
    "h1          { color: rgb(226, 0, 26); }\n",
    "h2          { color: rgb(149, 0, 17); }\n",
    ".output_png { display: table-cell;  text-align: center;  vertical-align: middle; }\n",
    "</style>"
   ]
  },
  {
   "cell_type": "markdown",
   "id": "be2bc664",
   "metadata": {
    "slideshow": {
     "slide_type": "skip"
    }
   },
   "source": [
    "### Vorbereitung\n",
    "* [RISE](https://rise.readthedocs.io/en/stable/index.html): *Jupyter Notebook* Add-On für das Präsentieren von Notebooks"
   ]
  },
  {
   "cell_type": "code",
   "execution_count": null,
   "id": "70270ed9",
   "metadata": {
    "slideshow": {
     "slide_type": "skip"
    }
   },
   "outputs": [],
   "source": [
    "%%capture\n",
    "!pip install RISE"
   ]
  },
  {
   "cell_type": "markdown",
   "id": "a4e20046",
   "metadata": {
    "slideshow": {
     "slide_type": "slide"
    }
   },
   "source": [
    "<br>\n",
    "<center><img src=\"img/InfluxDB_logo.png\" style=\"margin: 0; width: 45%\"/></center>\n",
    "<br><br>\n",
    "\n",
    "# Einführung in InfluxDB\n",
    "---\n",
    "*DB-Implementierung – Sommersemester 2023 – DHBW Mannheim*\\\n",
    "Frederik Wolter 4584834"
   ]
  },
  {
   "cell_type": "markdown",
   "id": "08247d4e",
   "metadata": {
    "slideshow": {
     "slide_type": "slide"
    }
   },
   "source": [
    "## 0. Motivation\n",
    "<br>\n",
    "\n",
    "| time                 | location  | field | value |\n",
    "|:---------------------|:----------|:------|:------|\n",
    "| 2023-03-17T00:00:00Z | Mannheim  | temperature  | 23    |\n",
    "| 2023-03-17T00:01:00Z | Frankfurt | temperature  | 30    |\n",
    "| 2023-03-17T00:05:00Z | Mannheim  | humidity     | 28    |\n",
    "| 2023-03-17T00:06:00Z | Frankfurt | humidity     | 32    |\n",
    "| 2023-03-17T00:10:00Z | Mannheim  | temperature  | 29    |\n",
    "| 2023-03-17T00:11:00Z | Frankfurt | temperature  | 40    |\n",
    "| ...                  | ...       | ...   | ...   |"
   ]
  },
  {
   "cell_type": "markdown",
   "id": "8b6290d1",
   "metadata": {
    "slideshow": {
     "slide_type": "subslide"
    }
   },
   "source": [
    "## 0. Motivation – die Zweite\n",
    "<br>\n",
    "\n",
    "| location  | field | value |\n",
    "|:----------|:------|:------|\n",
    "| Mannheim  | temperature  | 23    |\n",
    "| Frankfurt | temperature  | 30    |\n",
    "| Mannheim  | humidity   | 28    |\n",
    "| Frankfurt | humidity   | 32    |\n",
    "| Mannheim  | temperature  | 29    |\n",
    "| Frankfurt | temperature  | 40    |\n",
    "| ...       | ...   | ...   |"
   ]
  },
  {
   "cell_type": "markdown",
   "id": "2a70516e",
   "metadata": {
    "slideshow": {
     "slide_type": "subslide"
    }
   },
   "source": [
    "## 0. Inhalt \\#\n",
    "1. Time Series Database\n",
    "2. InfluxDB-Universum\n",
    "3. InfluxDB\n",
    "4. Bewertung\n",
    "5. Beispiel"
   ]
  },
  {
   "cell_type": "markdown",
   "id": "69eff742",
   "metadata": {
    "slideshow": {
     "slide_type": "slide"
    }
   },
   "source": [
    "## 1. Time Series Database\n",
    "\n",
    "<blockquote style=\"width: 90%;\">\n",
    "<p>A <strong>time series database (TSDB)</strong> is a database optimized for time-stamped or time series data.</p>\n",
    "</blockquote>"
   ]
  },
  {
   "cell_type": "markdown",
   "id": "6efc1300",
   "metadata": {
    "slideshow": {
     "slide_type": "fragment"
    }
   },
   "source": [
    "<blockquote style=\"width: 90%; matgin-bottom: 0\">\n",
    "<p> <strong>Time series data</strong> are simply measurements or events that are tracked, monitored, downsampled, and aggregated over time. </p>\n",
    "</blockquote>"
   ]
  },
  {
   "cell_type": "markdown",
   "id": "0ad3cc89",
   "metadata": {
    "slideshow": {
     "slide_type": "subslide"
    }
   },
   "source": [
    "## 1. Time Series Database – Beispiele\n",
    "\n",
    "*Blutzucker-Spiegel, (Server-)Monitoring, Netzwerkdaten, Sensordaten, IoT, Aktien-Kurse, ...*\n",
    "<center><img src=\"img/example_graph.png\" style=\"margin: 0; width: 80%\"/></center>"
   ]
  },
  {
   "cell_type": "markdown",
   "id": "be905f26",
   "metadata": {
    "slideshow": {
     "slide_type": "fragment"
    }
   },
   "source": [
    "<center style=\"font-size: 1.2em\"><b>🡒 Analysieren, Vorhersagen, Überwachen</b></center>"
   ]
  },
  {
   "cell_type": "markdown",
   "id": "e6d6f459",
   "metadata": {
    "slideshow": {
     "slide_type": "subslide"
    }
   },
   "source": [
    "## 1. Time Series Database – Besonderheiten\n",
    "* Messungen über Zeit 🡒 optimiert für Aufgaben:\n",
    "    * **Scannen vieler Datensätze in großen Bereichen**\n",
    "    * *Datenlebenszyklus*-Verwaltung\n",
    "    * Zusammenfassen, Aggregation, Kompression"
   ]
  },
  {
   "cell_type": "markdown",
   "id": "f241afef",
   "metadata": {
    "slideshow": {
     "slide_type": "fragment"
    }
   },
   "source": [
    "<center><i>\"Entwicklung des Bitcoin-Kurses im Tagesdurchschnitt der letzten 2 Jahre.\"</i></center>\n",
    "<center><i>\"Für Daten älter als 72h ist es ausreichend einen stündlichen Durchschnitt zu speichern.\"</i></center>\n",
    "<center><img src=\"img/downsample.png\" style=\"width: 90%\"/></center>"
   ]
  },
  {
   "cell_type": "markdown",
   "id": "01070bdc",
   "metadata": {
    "slideshow": {
     "slide_type": "subslide"
    }
   },
   "source": [
    "## 1. Time Series Database – Ranking\n",
    "Ranking der 10 verbreitetsten TSDB:<br><br>\n",
    "<center><img src=\"img/Time_Series_Database_Ranking.png\" style=\"margin: 0; width: 80%\"/></center>"
   ]
  },
  {
   "cell_type": "markdown",
   "id": "7628995a",
   "metadata": {
    "slideshow": {
     "slide_type": "slide"
    }
   },
   "source": [
    "## 2. InfluxDB-Universum \\#\n",
    "InfluxDB\n",
    "\n",
    "InfluxDB is the most popular open-source time-series database, created by a company called Influx data in 2013. InfluxDB provides APIs for various popular programming languages such as Python, Golang, Java, etc.\n",
    "\n",
    "\n",
    "InfluxDB overview\n",
    "\n",
    "InfluxDB is an open-source time-series database written in Go and developed by Influx data.\n",
    "\n",
    "It is designed to store and retrieve time-series data quickly. Moreover, it works seamlessly with the right platform to collect, store and analyze data.\n",
    "\n",
    "\n",
    "What is InfluxDB\n",
    "\n",
    "InfluxDB is an open source Time Serie Database (TSDB).\n",
    "It is specialized in operations like monitoring, application metrics, Internet of Things (IoT) sensors data and real-time analytics.\n",
    "It is mainly written in Go language and is designed for high-performance and high-efficiency storage.\n",
    "It can store thousands of data points every second making it perfect for industrial grade applications.\n",
    "\n",
    "Once stored, data can be queried and analyzed using the \"Flux\" language.\n",
    "This language is an integral part of InfluxDB and permits advanced data manipulations to analyze your data in an incredible depth.\n",
    "\n",
    "\n",
    "InfluxData, the company behind InfluxDB\n",
    "\n",
    "InfluxDB has been created in 2012 by the company InfluxData (named Errplane at this time).\n",
    "It has been backed by Y Combinator startup accelerator that launched companies like Airbnb, Dropbox, PagerDuty, Coinbase, Stripe or Twitch.\n",
    "\n",
    "Overt the years InfluxData has been trusted by many companies and investors and has raised a total of $119 million since its creation.\n",
    "\n",
    "Its HQ is in San Francisco (California, United States) but, as a lot of company nowadays, lots of its employees are working remotely all over the world.\n",
    "\n",
    "\n",
    "# Wikipedia\n",
    "InfluxDB ist ein Open Source Datenbankmanagementsystem (DBMS), speziell für Zeitreihen (engl. time series). Es wird von der Firma InfluxData entwickelt und vertrieben. \n",
    "Entwickler \tInfluxData\n",
    "Erscheinungsjahr \t24. September 2013\n",
    "Aktuelle Version \t2.5.1[1]\n",
    "(3. November 2022)\n",
    "Betriebssystem \tLinux, FreeBSD, macOS, Windows\n",
    "Programmiersprache \tGo\n",
    "Kategorie \tDBMS\n",
    "Lizenz \tOpen Source (MIT-Lizenz) bzw. proprietär \n",
    "\n",
    "\n",
    "## INflux Data\n",
    "What makes InfluxDB time series database unique?\n",
    "\n",
    "InfluxDB was built from the ground up to be a purpose-built time series database; i.e., it was not repurposed to be time series. Time was built-in from the beginning. InfluxDB is part of a comprehensive platform that supports the collection, storage, monitoring, visualization and alerting of time series data. It’s much more than just a time series database.\n",
    "\n",
    "The whole InfluxData platform is built from an open source db core. InfluxData is an active contributor to the Telegraf, InfluxDB, Chronograf  and Kapacitor (TICK) projects — the “I,C,K” from the TICK Stack is being collapsed into a single binary in InfluxDB 2.0 — as well as selling InfluxDB Enterprise and InfluxDB Cloud on this open source core. The InfluxDB data model is quite different from other time series solutions like Graphite, RRD, or OpenTSDB. InfluxDB has a line protocol for sending time series data which takes the following form: measurement-name tag-set field-set timestamp. The measurement name is a string, the tag set is a collection of key/value pairs where all values are strings, and the field set is a collection of key/value pairs where the values can be int64, float64, bool, or string. The measurement name and tag sets are kept in an inverted index which make lookups for specific series very fast. For example, if we have CPU metrics:\n",
    "\n",
    "cpu,host=serverA,region=uswest idle=23,user=42,system=12 1464623548s\n",
    "\n",
    "Timestamps in InfluxDB can be second, millisecond, microsecond, or nanosecond precision. The micro and nanosecond scales make InfluxDB a good choice for use cases in finance and scientific computing where other solutions would be excluded. Compression is variable depending on the level of precision the user needs. On disk, the data is organized in a columnar style format where contiguous blocks of time are set for the measurement, tagset, field. So, each field is organized sequentially on disk for blocks of time, which make calculating aggregates on a single field a very fast operation. There is no limit to the number of tags and fields that can be used.\n",
    "\n",
    "Other time series solutions don’t support multiple fields, which can make their network protocols bloated when transmitting data with shared tag sets. Most other time series solutions only support float64 values, which means the user is unable to encode additional metadata along with the time series. Even OpenTSDB and KairosDB, which support tags (unlike Graphite and RRD), have limitations on the number of tags that can be used. At around 5 to 6 tags, the user will start seeing hot spots within their cluster of HBase or Cassandra machines.\n",
    "\n",
    "InfluxDB doesn’t have this limitation because the InfluxDB data model is designed for time series specifically. It pushes the developer in the right direction to get good performance out of the database by indexing tags and keeping fields unindexed. It’s flexible in that many data types are supported, and the user can have many fields and tags. Because of all these factors, a purpose-built time series database like InfluxDB is the best solution for working with time series data."
   ]
  },
  {
   "cell_type": "markdown",
   "id": "54187e78",
   "metadata": {
    "slideshow": {
     "slide_type": "subslide"
    }
   },
   "source": [
    "## 2.# TICK-Stack \\#\n",
    "\n",
    "What is the TICK Stack?\n",
    "\n",
    "The TICK Stack is an acronym that denotes for a platform of open source tools built to collect, store, graphing, and providing alerts on time series data incredibly easy and efficiently. “I” in TICK is “INFLUXDB”. TICK stack contains various components which are:\n",
    "\n",
    "TELEGRAF: Telegraf’s provides collection of metrics and metrics collection agent that is used to collect and send metrics to InfluxDB.\n",
    "\n",
    "InfluxDB:\n",
    "Influx DB is an open source time series database written in Go language which is developed by InfluxData. It is optimized for high-availability retrieval of data,faster and storage of time series data in fields such as operations monitoring, application metrics, IoT sensor data, and real-time analytics.\n",
    "\n",
    "InfluxDB is a high performance Time Series Database which can store data ranging from hundreds of thousands of points per second. The InfluxDB is a SQL-kind of query language which was built specifically for time series data.\n",
    "\n",
    "CHRONOGRAF: It’s a whole TICK stack UI used to set up graphs and dashboard of data in InfluxDB and integrate the Kapacitor alerts\n",
    "\n",
    "KAPACITOR: It is used to break/crunch time series data into action alerts and send these alerts across to several products like Slack and PagerDuty. Kapacitor is a metrics,event processing and alerting system application.The entire TICK Stack is interoperable,with each component providing significant value as a standalone application.\n",
    "\n",
    "\\# bild von TICK Stack\n",
    "\n",
    "++ Grafana\n",
    "https://www.influxdata.com/how-to-visualize-time-series-data/\n",
    "\n",
    "https://www.section.io/engineering-education/introduction-to-influxdb/select.png\n",
    "\n",
    "\n",
    "* https://www.influxdata.com/time-series-platform/telegraf/ ##\n",
    "* https://www.influxdata.com/time-series-platform/chronograf/ ##\n",
    "* https://www.influxdata.com/time-series-platform/kapacitor/ ##\n",
    "* https://www.influxdata.com/products/influxdb-overview/ ## "
   ]
  },
  {
   "cell_type": "markdown",
   "id": "719a3046",
   "metadata": {
    "slideshow": {
     "slide_type": "slide"
    }
   },
   "source": [
    "## 3. InfluxDB"
   ]
  },
  {
   "cell_type": "markdown",
   "id": "6d98b0b0",
   "metadata": {
    "slideshow": {
     "slide_type": "subslide"
    }
   },
   "source": [
    "## 3.1 InfluxDB – Formen\n",
    "Verschiedene [Bereitstellungs-Formen](https://portal.influxdata.com/downloads/):\n",
    "* **InfluxDB OSS** - *Binaries*\n",
    "  * Database + CLI (`InfluxDB`)\n",
    "  * User Interface (`Chronograf`)\n",
    "  * Monitoring (`Kapacitor`)\n",
    "* **InfluxDB OSS** - *Docker Image*\n",
    "* **InfluxDB Cloud**\n",
    "<br><br>\n",
    "* Client HTTPs API + Libraries"
   ]
  },
  {
   "cell_type": "markdown",
   "id": "f4439b1c",
   "metadata": {
    "slideshow": {
     "slide_type": "subslide"
    }
   },
   "source": [
    "## 3.2 InfluxDB – [Konzepte](https://docs.influxdata.com/influxdb/v2.6/reference/key-concepts/data-elements/)\n",
    "<br>\n",
    "\n",
    "<table style=\"font-size: 90%; border-collapse: collapse;\">\n",
    "<thead>\n",
    "    <tr>\n",
    "    <th style=\"text-align:left; border: 1px solid; padding: 0.5em 0.5em;\">Bezeichnung</th>\n",
    "    <th style=\"text-align:left; border: 1px solid;\">Beschreibung</th>\n",
    "    <th style=\"text-align:center; border: 1px solid;\"><em>≈Pendant</em></th>\n",
    "    </tr>\n",
    "</thead>\n",
    "<tbody>\n",
    "    <tr>\n",
    "    <td style=\"text-align:left; border: 1px solid; padding: 0.5em 0.5em;\"><code>Bucket</code></td>\n",
    "    <td style=\"text-align:left; border: 1px solid;\">Speicherort für die TSD</td>\n",
    "    <td style=\"text-align:center; border: 1px solid;\">Datenbank</td>\n",
    "    </tr>\n",
    "    <tr>\n",
    "    <td style=\"text-align:left; border: 1px solid; padding: 0.5em 0.5em;\"><code>Measurement</code></td>\n",
    "    <td style=\"text-align:left; border: 1px solid;\">Logische Gruppierung nach zu messendem Objekt mit gleichen <code>Tags</code></td>\n",
    "    <td style=\"text-align:center; border: 1px solid;\">Tabelle</td>\n",
    "    </tr>\n",
    "    <tr>\n",
    "    <td style=\"text-align:left; border: 1px solid; padding: 0.5em 0.5em;\"><code>Tags</code></td>\n",
    "    <td style=\"text-align:left; border: 1px solid;\">Key-Value-Paare mit wenigen verschiedenen Werten:<br>Metadaten für jeden <code>Point</code> wie <em>host, location, station</em></td>\n",
    "    <td style=\"text-align:center; border: 1px solid;\">Relationen</td>\n",
    "    </tr>\n",
    "    <tr>\n",
    "    <td style=\"text-align:left; border: 1px solid; padding: 0.5em 0.5em;\"><code>Fields</code></td>\n",
    "    <td style=\"text-align:left; border: 1px solid;\">Key-Value-Paare mit oft ändernde Werten:<br>Eigentliche Wert wie <em>Temperatur, Druck, Aktienkurs usw.</em></td>\n",
    "    <td style=\"text-align:center; border: 1px solid;\">Werte</td>\n",
    "    </tr>\n",
    "    <tr>\n",
    "    <td style=\"text-align:left; border: 1px solid; padding: 0.5em 0.5em;\"><code>Timestamp</code></td>\n",
    "    <td style=\"text-align:left; border: 1px solid;\">Zeitstempel, der mit den Daten verbunden ist.</td>\n",
    "    <td style=\"text-align:center; border: 1px solid;\">\"Primary Key\"</td>\n",
    "    </tr>\n",
    "</tbody></table>\n",
    "\n",
    "<br>"
   ]
  },
  {
   "cell_type": "markdown",
   "id": "8b22069f",
   "metadata": {
    "slideshow": {
     "slide_type": "subslide"
    }
   },
   "source": [
    "## 3.2 InfluxDB – [Konzepte](https://docs.influxdata.com/influxdb/v2.6/reference/key-concepts/data-elements/)\n",
    "\n",
    "<table style=\"font-size: 90%; border-collapse: collapse;\">\n",
    "<thead>\n",
    "<tr>\n",
    "<th style=\"text-align:left; border: 1px solid; padding: 0.5em 0.5em;\">Bezeichnung</th>\n",
    "<th style=\"text-align:left; border: 1px solid;\">Beschreibung</th>\n",
    "<th style=\"text-align:center; border: 1px solid;\"><em>≈Pendant</em></th>\n",
    "</tr>\n",
    "</thead>\n",
    "<tbody><tr>\n",
    "<td style=\"text-align:left; border: 1px solid; padding: 0.5em 0.5em;\"><code>Series</code></td>\n",
    "<td style=\"text-align:left; border: 1px solid;\">Gruppe von <code>Points</code> mit selben <code>Measurement</code>, <code>Tag</code>-Keys und <code>Tag</code>-Values.</td>\n",
    "<td style=\"text-align:center; border: 1px solid;\">\"Group By\"</td>\n",
    "</tr>\n",
    "<tr>\n",
    "<td style=\"text-align:left; border: 1px solid; padding: 0.5em 0.5em;\"><code>Point</code></td>\n",
    "<td style=\"text-align:left; border: 1px solid;\">Datensatz durch <code>Measurement</code>, <code>Tags</code>, <code>Fields</code> und <code>Timestamp</code> identifiziert.</td>\n",
    "<td style=\"text-align:center; border: 1px solid;\">Zeile</td>\n",
    "</tr>\n",
    "</tbody></table>"
   ]
  },
  {
   "cell_type": "markdown",
   "id": "39683ad9",
   "metadata": {
    "slideshow": {
     "slide_type": "subslide"
    }
   },
   "source": [
    "## 3.2 InfluxDB – Konzepte Beispiel\n",
    "`Bucket` *\"IoT-Data\"*:\n",
    "<center><img src=\"img/Concepts_Example.png\" style=\"margin: 0; width: 70%\"/></center>"
   ]
  },
  {
   "cell_type": "markdown",
   "id": "0bc86b48",
   "metadata": {
    "slideshow": {
     "slide_type": "subslide"
    }
   },
   "source": [
    "## 3.# Flux\n",
    "\n",
    "Using Flux to query Data from the InfluxDB Cloud\n",
    "\n",
    "Flux is a functional, extensible, and composable data scripting language designed for time-series data.\n",
    "\n",
    "It queries, analyzes, and acts on data, then visualizes the results. It has support for querying data from various sources, including CSV and SQL.\n",
    "\n",
    "Flux creates some composable functions to use as building blocks. A Flux query retrieves data from the data source, filters it based on time or column values, processes the data, and returns results.\n",
    "\n",
    "In InfluxDB, we have buckets that act as databases. To create a bucket, navigate on the left side and select Load Data, as shown below:"
   ]
  },
  {
   "cell_type": "markdown",
   "id": "2aa4ebda",
   "metadata": {
    "slideshow": {
     "slide_type": "subslide"
    }
   },
   "source": [
    "## 3.# Speicher Bereinigung\n",
    "\n",
    "https://docs.influxdata.com/influxdb/v1.8/query_language/manage-database/#retention-policy-management\n",
    "https://docs.influxdata.com/influxdb/v2.6/process-data/common-tasks/downsample-data/\n",
    "\n",
    "How to avoid disk space saturation\n",
    "\n",
    "InfluxDB is a time series database. Such database typically receive a lot of metrics and doesn't delete them. This means that your database will grow infinitely.\n",
    "Unfortunately, you don't have infinite disk space.\n",
    "\n",
    "To avoid a disk space saturation, InfluxDB provides two solutions.\n",
    "\n",
    "The first one consists in deleting the data prior to a defined date. For example, you will define that data older than 365 days have to be deleted.\n",
    "This is called \"retention\" and you will find more information about it below.\n",
    "\n",
    "The second one is to downsample your data. Imagine you store a temperature every second. It is great to have a live view of the temperature, but you probably don't need to keep a 1-second resolution for months.\n",
    "You can, for example, downsample this metric like this:\n",
    "\n",
    "    keep temperature with 1 second resolution for the last 5 minutes.\n",
    "    keep maximums, minimums and averages temperatures with 1 minute resolution for the last 24 hours.\n",
    "    keep maximums, minimums and averages temperatures with 1 hour resolution for the rest of the data.\n",
    "\n",
    "Using retention, you will be able to keep your data for a long period without having to store terabytes of data.\n",
    "You will find more information about downsample on the official documentation.\n",
    "\n",
    "\n",
    "\n",
    "Handling InfluxDB retention\n",
    "\n",
    "Per default, InfluxDB will store your data and never delete them.\n",
    "While this seems normal for a classical database, it is not for a time series database type.\n",
    "Indeed, a time series database is supposed to delete its oldest data to avoid unlimited growth.\n",
    "\n",
    "For example, if you store a battery voltage, the data is probably interesting for few days but not for years.\n",
    "\n",
    "To avoid any disk space saturation, this is very important that you configure a retention period for each of your buckets.\n",
    "\n",
    "To do this, go to your InfluxDB WEB UI, click on \"Data\", then \"Buckets\" and click on \"Settings\" closed to the bucket you want to configure.\n",
    "Then select \"Delete data older than\" and select the retention you desire.\n",
    "\n",
    "⚠️ Don't forget that you will loose data older than this retention period!\n",
    "\n",
    "Note that data are organized in shards. Shards with outdated data will be deleted.\n",
    "But a shard which contains outdated and non outdated data will not be deleted.\n",
    "By default, when no retention has been defined, a shard contains 7 days of data. That means that when you will define a retention period, almost 7 days of outdated data will be kept, in addition to your fresh data.\n",
    "\n",
    "You will find more information about shards on the official documentation."
   ]
  },
  {
   "cell_type": "markdown",
   "id": "4c9075cb",
   "metadata": {
    "slideshow": {
     "slide_type": "subslide"
    }
   },
   "source": [
    "## 3.# Internals\n",
    "[InfluxDB Storage Engine](https://docs.influxdata.com/influxdb/v2.6/reference/internals/storage-engine/)"
   ]
  },
  {
   "cell_type": "markdown",
   "id": "a7a8b69c",
   "metadata": {
    "slideshow": {
     "slide_type": "slide"
    }
   },
   "source": [
    "## 4. Bewertung"
   ]
  },
  {
   "cell_type": "markdown",
   "id": "5ff7b62c",
   "metadata": {
    "slideshow": {
     "slide_type": "subslide"
    }
   },
   "source": [
    "## 4.1 Unterschied zu relationalem SQL\n",
    "<br>\n",
    "<center>InfluxDB vs. MySQL, PostgreSQL, MSSQL, ... </center>"
   ]
  },
  {
   "cell_type": "markdown",
   "id": "d501e018",
   "metadata": {
    "slideshow": {
     "slide_type": "fragment"
    }
   },
   "source": [
    "* <u>Relationale-DB</u>: für Daten wie Benutzer und Nachrichten\n",
    "  * Nachrichten mit Benutzern verknüpft\n",
    "  * *\"Gib mir alle Nachrichten, die heute von diesem Benutzer gesendet wurden\".*\n",
    "  <br><br>\n",
    "* <u>Zeitserien-DB</u>: für diese Art von Aufgabe nicht geeignet\n",
    "  * **stellen keine Beziehungen zwischen Daten her**"
   ]
  },
  {
   "cell_type": "markdown",
   "id": "72383762",
   "metadata": {
    "slideshow": {
     "slide_type": "subslide"
    }
   },
   "source": [
    "## 4.2 Unterschied zu NoSQL\n",
    "<br>\n",
    "<center>InfluxDB vs. MongoDB, ...</center>"
   ]
  },
  {
   "cell_type": "markdown",
   "id": "e06b3372",
   "metadata": {
    "slideshow": {
     "slide_type": "fragment"
    }
   },
   "source": [
    "* <u>NoSQL-DB</u>: speichert Daten wie Dokumente\n",
    "  * Verknüpfung mehrerer Daten: z.B. Benutzername, Geburtstag, E-Mail\n",
    "  * *\"Konkurrent\"* zu relationalen-DB\n",
    "  * als solche nicht ausgelegt Metrikdaten zu speichern"
   ]
  },
  {
   "cell_type": "markdown",
   "id": "6688e5e2",
   "metadata": {
    "slideshow": {
     "slide_type": "subslide"
    }
   },
   "source": [
    "## 4.3 Wann InfluxDB *nicht* verwenden?\n",
    "\n",
    "* Dokumente oder Daten, die **keine Metriken** sind\n",
    "  * z.B. Benutzerinformationen, Nachrichten, PDF-Dokumente\n",
    "  * → `PostgreSQL`, `MySQL`, `MongoDB` ..."
   ]
  },
  {
   "cell_type": "markdown",
   "id": "e715795a",
   "metadata": {
    "slideshow": {
     "slide_type": "fragment"
    }
   },
   "source": [
    "* Metriken für Server oder Netzwerk (wie Switches, Router, ...)\n",
    "  * Lösungen wie `Prometheus` - speziell für diesen Zweck entwickelt"
   ]
  },
  {
   "cell_type": "markdown",
   "id": "3f17194b",
   "metadata": {
    "slideshow": {
     "slide_type": "subslide"
    }
   },
   "source": [
    "## 4.4 Wann InfluxDB verwenden?\n",
    "\n",
    "* Speichern, Abfragen und Analysieren von **Metriken** wie IoT-Sensoren, Monitoring-Daten ..."
   ]
  },
  {
   "cell_type": "markdown",
   "id": "4dce3183",
   "metadata": {
    "slideshow": {
     "slide_type": "fragment"
    }
   },
   "source": [
    "* *IoT-Geräte*:\n",
    "  * über `WiFi`, `5G` oder `LoRa`-Netzwerke\n",
    "  * Sensorwerte wie Temperaturen, Beschleunigung, GPS usw.\n",
    "  * in regelmäßigen Abständen\n",
    "  * \\+ Gesundheitsdaten wie Batteriespannung und Netzwerkempfang"
   ]
  },
  {
   "cell_type": "markdown",
   "id": "f2c20ac5",
   "metadata": {
    "slideshow": {
     "slide_type": "subslide"
    }
   },
   "source": [
    "## 4.4 Wann InfluxDB verwenden? – Vorteile\n",
    "\n",
    "* **effizienter** Umgang mit Messdaten\n",
    "    * *Komprimierung, Downsampling, Retention Policies*\n",
    "* mächtige Abfrage-Sprache **`Flux`**\n",
    "* Vielzahl **Schnittstellen** – u.a. zur Visualisierung<br>"
   ]
  },
  {
   "cell_type": "markdown",
   "id": "6a9c4b16",
   "metadata": {
    "slideshow": {
     "slide_type": "fragment"
    }
   },
   "source": [
    "<center><img src=\"img/performance.png\" style=\"margin: 0; width: 80%\"/></center>"
   ]
  },
  {
   "cell_type": "markdown",
   "id": "b2f90d9a",
   "metadata": {
    "slideshow": {
     "slide_type": "slide"
    }
   },
   "source": [
    "## 5. Beispiel"
   ]
  },
  {
   "cell_type": "markdown",
   "id": "dbd8ef5a",
   "metadata": {
    "slideshow": {
     "slide_type": "subslide"
    }
   },
   "source": [
    "## 5. Beispiel\n",
    "`InfluxDB Cloud` in Kombination mit [`Python API`](https://docs.influxdata.com/influxdb/cloud/api-guide/client-libraries/python/)"
   ]
  },
  {
   "cell_type": "markdown",
   "id": "db25383f",
   "metadata": {
    "slideshow": {
     "slide_type": "fragment"
    }
   },
   "source": [
    "### [InfluxDB Cloud](https://eu-central-1-1.aws.cloud2.influxdata.com/)\n",
    "* User Interface\n",
    "* Side Bar (*Home, Load Data, Data Explorer, ...* )\n",
    "* Hierarchie (*Profile, Org, Bucket, ...* )"
   ]
  },
  {
   "cell_type": "markdown",
   "id": "5cb1b8bd",
   "metadata": {
    "slideshow": {
     "slide_type": "subslide"
    }
   },
   "source": [
    "## 5.1 Requirements – Packages\n",
    "`Python 3` und folgende Packages:\n",
    "1. [influxdb-client](https://github.com/influxdata/influxdb-client-python) für Verbindung zur InfluxDB\n",
    "2. [pandas](https://pandas.pydata.org/) für Organisation der Datenausgabe bei Abfragen"
   ]
  },
  {
   "cell_type": "code",
   "execution_count": null,
   "id": "0d98db96",
   "metadata": {
    "slideshow": {
     "slide_type": "-"
    }
   },
   "outputs": [],
   "source": [
    "%%capture\n",
    "!pip install influxdb-client\n",
    "!pip install pandas"
   ]
  },
  {
   "cell_type": "markdown",
   "id": "e8ea758a",
   "metadata": {
    "slideshow": {
     "slide_type": "subslide"
    }
   },
   "source": [
    "## 5.1 Requirements – Token\n",
    "`InfluxDB Cloud` verwendet `Token` für API-Zugang.<br>"
   ]
  },
  {
   "cell_type": "markdown",
   "id": "d8668df3",
   "metadata": {
    "slideshow": {
     "slide_type": "fragment"
    }
   },
   "source": [
    "Verwendung als Umgebungsvariable in **Jupyter Notebook**:\n",
    "```python\n",
    "%env INFLUXDB_TOKEN=INSERT_TOKEN_HERE\n",
    "```\n",
    "Alternativ im **Terminal**:\n",
    "```bash\n",
    "export INFLUXDB_TOKEN=INSERT_TOKEN_HERE\n",
    "```"
   ]
  },
  {
   "cell_type": "code",
   "execution_count": null,
   "id": "5ed706a7",
   "metadata": {
    "slideshow": {
     "slide_type": "-"
    }
   },
   "outputs": [],
   "source": [
    "%%capture\n",
    "%run config.ipynb"
   ]
  },
  {
   "cell_type": "markdown",
   "id": "0d36dac2",
   "metadata": {
    "slideshow": {
     "slide_type": "subslide"
    }
   },
   "source": [
    "## 5.1 Requirements – Imports"
   ]
  },
  {
   "cell_type": "code",
   "execution_count": null,
   "id": "7f8e7ea9",
   "metadata": {
    "slideshow": {
     "slide_type": "-"
    }
   },
   "outputs": [],
   "source": [
    "from influxdb_client import InfluxDBClient, Point\n",
    "from influxdb_client.client.write_api import SYNCHRONOUS\n",
    "\n",
    "import os"
   ]
  },
  {
   "cell_type": "markdown",
   "id": "9191cc25",
   "metadata": {
    "slideshow": {
     "slide_type": "subslide"
    }
   },
   "source": [
    "## 5.2 Script – Connection"
   ]
  },
  {
   "cell_type": "code",
   "execution_count": null,
   "id": "843a4932",
   "metadata": {
    "slideshow": {
     "slide_type": "-"
    }
   },
   "outputs": [],
   "source": [
    "url   = \"https://eu-central-1-1.aws.cloud2.influxdata.com\"\n",
    "token = os.environ[\"INFLUXDB_TOKEN\"]\n",
    "org   = \"DB-Impl\"\n",
    "\n",
    "client = InfluxDBClient(url=url, token=token, org=org)\n",
    "\n",
    "# do stuff ...\n",
    "\n",
    "client.close()"
   ]
  },
  {
   "cell_type": "markdown",
   "id": "f0e5a246",
   "metadata": {
    "slideshow": {
     "slide_type": "subslide"
    }
   },
   "source": [
    "## 5.3 Script – Write\n",
    "Daten in Bucket schreiben:"
   ]
  },
  {
   "cell_type": "code",
   "execution_count": null,
   "id": "9faf1050",
   "metadata": {
    "slideshow": {
     "slide_type": "-"
    }
   },
   "outputs": [],
   "source": [
    "url   = \"https://eu-central-1-1.aws.cloud2.influxdata.com\"\n",
    "token = os.environ[\"INFLUXDB_TOKEN\"]\n",
    "org   = \"DB-Impl\"\n",
    "bucket= \"Demo\"\n",
    "\n",
    "with InfluxDBClient(url=url, token=token, org=org) as client:\n",
    "    with client.write_api(write_options=SYNCHRONOUS) as write_api:\n",
    "        p = Point(\"weather\").tag(\"location\", \"Mannheim\") \\\n",
    "                            .field(\"temperature\", 25.9)  \\\n",
    "                            .field(\"humidity\", 60.1)     \\\n",
    "                           #.time(datetime.utcnow(), WritePrecision.MS)\n",
    "        write_api.write(org=org, bucket=bucket, record=p)"
   ]
  },
  {
   "cell_type": "markdown",
   "id": "1ec4eec9",
   "metadata": {
    "slideshow": {
     "slide_type": "subslide"
    }
   },
   "source": [
    "## 5.3 Script – Query"
   ]
  },
  {
   "cell_type": "code",
   "execution_count": null,
   "id": "59148f86",
   "metadata": {},
   "outputs": [],
   "source": [
    "url   = \"https://eu-central-1-1.aws.cloud2.influxdata.com\"\n",
    "token = os.environ[\"INFLUXDB_TOKEN\"]\n",
    "org   = \"DB-Impl\"\n",
    "\n",
    "with InfluxDBClient(url=url, token=token, org=org) as client:\n",
    "    query_api = client.query_api()\n",
    "    query = '''from(bucket: \"Demo\") \n",
    "                 |> range(start: -10m)\n",
    "                 |> filter(fn:(r) => r._measurement == \"weather\")'''\n",
    "    result = query_api.query(query=query)\n",
    "\n",
    "    for table in result:\n",
    "        for record in table.records:\n",
    "            print(str(record[\"_time\"]) + \" \" + record.get_measurement() + \" \" + record.get_field() + \"=\" + str(record.get_value()))"
   ]
  },
  {
   "cell_type": "code",
   "execution_count": null,
   "id": "2e8a2376",
   "metadata": {},
   "outputs": [],
   "source": [
    "url   = \"https://eu-central-1-1.aws.cloud2.influxdata.com\"\n",
    "token = os.environ[\"INFLUXDB_TOKEN\"]\n",
    "org   = \"DB-Impl\"\n",
    "\n",
    "with InfluxDBClient(url=url, token=token, org=org) as client:\n",
    "    query_api = client.query_api()\n",
    "    query = '''from(bucket: \"Demo\") \n",
    "                 |> range(start: -10m)\n",
    "                 |> filter(fn:(r) => r._measurement == \"weather\")'''\n",
    "    results = query_api.query(query=query)\n",
    "\n",
    "    output = []\n",
    "    for table in results:\n",
    "        for record in table.records:\n",
    "            output.append((str(record[\"_time\"]), record.get_measurement(), record.get_field(), record.get_value()))\n",
    "output"
   ]
  },
  {
   "cell_type": "markdown",
   "id": "299e23bb",
   "metadata": {
    "slideshow": {
     "slide_type": "subslide"
    }
   },
   "source": [
    "## 5.4 Script – Write Loop"
   ]
  },
  {
   "cell_type": "code",
   "execution_count": null,
   "id": "f4d8d913",
   "metadata": {
    "slideshow": {
     "slide_type": "-"
    }
   },
   "outputs": [],
   "source": [
    "from random import uniform\n",
    "import time"
   ]
  },
  {
   "cell_type": "code",
   "execution_count": null,
   "id": "71bb5071",
   "metadata": {
    "slideshow": {
     "slide_type": "-"
    }
   },
   "outputs": [],
   "source": [
    "url   = \"https://eu-central-1-1.aws.cloud2.influxdata.com\"\n",
    "token = os.environ[\"INFLUXDB_TOKEN\"]\n",
    "org   = \"DB-Impl\"\n",
    "bucket= \"Demo\"\n",
    "\n",
    "with InfluxDBClient(url=url, token=token, org=org) as client:\n",
    "    with client.write_api(write_options=SYNCHRONOUS) as write_api:\n",
    "        for i in range(60):\n",
    "            t = round(uniform(25, 28), 2)\n",
    "            h = round(uniform(60, 65), 2)\n",
    "            p = Point(\"weather\").tag(\"location\", \"Mannheim\") \\\n",
    "                                .field(\"temperature\", t)     \\\n",
    "                                .field(\"humidity\", h)\n",
    "            write_api.write(org=org, bucket=bucket, record=p)\n",
    "            \n",
    "            print(\".\", end='')\n",
    "            time.sleep(1) "
   ]
  },
  {
   "cell_type": "markdown",
   "id": "aa16c951",
   "metadata": {
    "slideshow": {
     "slide_type": "subslide"
    }
   },
   "source": [
    "## 5.4 Script – Query Dataframe"
   ]
  },
  {
   "cell_type": "code",
   "execution_count": null,
   "id": "c9a69ec5",
   "metadata": {},
   "outputs": [],
   "source": [
    "url   = \"https://eu-central-1-1.aws.cloud2.influxdata.com\"\n",
    "token = os.environ[\"INFLUXDB_TOKEN\"]\n",
    "org   = \"DB-Impl\"\n",
    "\n",
    "with InfluxDBClient(url=url, token=token, org=org) as client:\n",
    "    query_api = client.query_api()\n",
    "    query = '''from(bucket:\"Demo\")\n",
    "                 |> range(start: -1h)\n",
    "                 |> keep(columns: [\"_time\", \"_measurement\", \"location\", \"_field\", \"_value\"])'''    \n",
    "    result = query_api.query_data_frame(query=query)\n",
    "result"
   ]
  },
  {
   "cell_type": "code",
   "execution_count": null,
   "id": "c87518bc",
   "metadata": {},
   "outputs": [],
   "source": [
    "url   = \"https://eu-central-1-1.aws.cloud2.influxdata.com\"\n",
    "token = os.environ[\"INFLUXDB_TOKEN\"]\n",
    "org   = \"DB-Impl\"\n",
    "\n",
    "with InfluxDBClient(url=url, token=token, org=org) as client:\n",
    "    query_api = client.query_api()\n",
    "    query = '''from(bucket:\"Demo\")\n",
    "                |> range(start: -1d)\n",
    "                |> pivot(rowKey: [\"_time\"], columnKey: [\"_field\"], valueColumn: \"_value\")\n",
    "                |> keep(columns: [\"_time\", \"_measurement\", \"location\", \"temperature\", \"humidity\"])'''  \n",
    "    result = query_api.query_data_frame(query=query)\n",
    "result"
   ]
  },
  {
   "cell_type": "code",
   "execution_count": null,
   "id": "9b2a4283",
   "metadata": {},
   "outputs": [],
   "source": [
    "# Query script\n",
    "query_api = write_client.query_api()\n",
    "query = 'from(bucket:\"Demo\")\\\n",
    "|> range(start: -10h)\\\n",
    "|> pivot(rowKey:[\"_time\"], columnKey: [\"_field\"], valueColumn: \"_value\")\\\n",
    "|> drop(columns: [\"result\", \"_start\", \"_stop\"])'\n",
    "result = query_api.query_data_frame(org=org, query=query)\n",
    "#result.drop(columns=[\"result\", \"_start\", \"_stop\"], inplace=True)\n",
    "result"
   ]
  },
  {
   "cell_type": "markdown",
   "id": "5e3524dc",
   "metadata": {
    "slideshow": {
     "slide_type": "slide"
    }
   },
   "source": [
    "## Ende\n",
    "[github.com/FrederikWolter/InfluxDB-Introduction](https://github.com/FrederikWolter/InfluxDB-Introduction)"
   ]
  },
  {
   "cell_type": "markdown",
   "id": "f79b7334",
   "metadata": {
    "slideshow": {
     "slide_type": "slide"
    }
   },
   "source": [
    "## Quellen – Inhalt\n",
    "* Allgemein\n",
    "  * https://wearecommunity.io/communities/india-java-user-group/articles/891\n",
    "  * https://www.section.io/engineering-education/introduction-to-influxdb/\n",
    "  * https://www.section.io/engineering-education/visualize-time-series-data-with-chart-js/\n",
    "  * https://www.stackhero.io/en/services/InfluxDB/documentations/Introduction\n",
    "  * https://www.stackhero.io/en/services/InfluxDB/documentations/Getting-started#how-to-avoid-disk-space-saturation\n",
    "  * https://de.wikipedia.org/wiki/InfluxDB\n",
    "  * https://www.influxdata.com/influxdb-cloud-pricing/\n",
    "* Time Series Database\n",
    "  * https://www.influxdata.com/time-series-database/\n",
    "* Dokumentation\n",
    "  * https://docs.influxdata.com/influxdb/cloud/\n",
    "  * https://docs.influxdata.com/influxdb/v2.6/\n",
    "  * https://docs.influxdata.com/influxdb/v2.6/get-started/\n",
    "  * https://docs.influxdata.com/influxdb/v1.8/concepts/glossary/\n",
    "  * https://docs.influxdata.com/influxdb/v1.8/guides/hardware_sizing/"
   ]
  },
  {
   "cell_type": "markdown",
   "id": "98d78e5b",
   "metadata": {
    "slideshow": {
     "slide_type": "slide"
    }
   },
   "source": [
    "## Quellen – Abbildungen\n",
    "* https://dbdb.io/media/logos/InfluxDB.png\n",
    "* https://grafana.com/static/img/docs/example_graph.png\n",
    "* https://images.ctfassets.net/o7xu9whrs0u9/61XcnBXyj1tt3O8uiXRmXR/2eae75ed7428d71159097a1cc197a3e5/JAN-2023-Matrix.png\n",
    "* https://images.ctfassets.net/o7xu9whrs0u9/lKl44mMas8vmyIoS3Eojt/0c6a914e87f6fdc856c9ef262e3b6edc/downsample.png\n",
    "* https://docs.influxdata.com/influxdb/v2.6/get-started/\n",
    "* https://docs.influxdata.com/influxdb/v1.8/guides/hardware_sizing/"
   ]
  },
  {
   "cell_type": "markdown",
   "id": "dd0e8381",
   "metadata": {
    "slideshow": {
     "slide_type": "skip"
    }
   },
   "source": [
    "# TODO\n",
    "\n",
    "* https://docs.influxdata.com/influxdb/cloud/query-data/execute-queries/query-sample-data/#add-sample-data ##\n",
    "* https://docs.influxdata.com/resources/videos/using-pandas-dataframes-in-influxdb-with-python/ ##\n",
    "* https://www.influxdata.com/blog/getting-started-with-influxdb-and-pandas/ ##\n",
    "<br><br>\n",
    "* https://docs.influxdata.com/influxdb/cloud/query-data/get-started/transform-data/ ##\n",
    "* https://docs.influxdata.com/resources/videos/pivots-in-flux/ ##\n",
    "* https://docs.influxdata.com/influxdb/cloud/api-guide/client-libraries/python/ ##"
   ]
  },
  {
   "cell_type": "markdown",
   "id": "c4022ad4",
   "metadata": {
    "slideshow": {
     "slide_type": "skip"
    }
   },
   "source": [
    "https://influx-testdata.s3.amazonaws.com/air-sensor-data-annotated.csv\n",
    "\n",
    "https://docs.influxdata.com/influxdb/v2.6/reference/sample-data/\n",
    "https://docs.influxdata.com/influxdb/v2.6/process-data/manage-tasks/create-task/ \\\n",
    "-> python?"
   ]
  },
  {
   "cell_type": "code",
   "execution_count": null,
   "id": "1fab0dcf",
   "metadata": {
    "slideshow": {
     "slide_type": "skip"
    }
   },
   "outputs": [],
   "source": [
    "# plot config\n",
    "import matplotlib as mpl\n",
    "mpl.rcParams[\"figure.dpi\"] = 200\n",
    "mpl.rcParams[\"figure.figsize\"] = [10.00, 4.00]"
   ]
  }
 ],
 "metadata": {
  "celltoolbar": "Slideshow",
  "kernelspec": {
   "display_name": "Python 3 (ipykernel)",
   "language": "python",
   "name": "python3"
  },
  "language_info": {
   "codemirror_mode": {
    "name": "ipython",
    "version": 3
   },
   "file_extension": ".py",
   "mimetype": "text/x-python",
   "name": "python",
   "nbconvert_exporter": "python",
   "pygments_lexer": "ipython3",
   "version": "3.11.1"
  }
 },
 "nbformat": 4,
 "nbformat_minor": 5
}
